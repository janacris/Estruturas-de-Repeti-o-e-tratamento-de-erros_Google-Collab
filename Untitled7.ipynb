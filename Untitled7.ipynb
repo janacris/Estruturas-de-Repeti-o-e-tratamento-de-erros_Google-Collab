{
  "nbformat": 4,
  "nbformat_minor": 0,
  "metadata": {
    "colab": {
      "provenance": [],
      "authorship_tag": "ABX9TyNfMopSuHxszSYDXodC+6wr",
      "include_colab_link": true
    },
    "kernelspec": {
      "name": "python3",
      "display_name": "Python 3"
    },
    "language_info": {
      "name": "python"
    }
  },
  "cells": [
    {
      "cell_type": "markdown",
      "metadata": {
        "id": "view-in-github",
        "colab_type": "text"
      },
      "source": [
        "<a href=\"https://colab.research.google.com/github/janacris/Estruturas_de_Repeticao_e_Tratamento_de_erros_Google_Collab/blob/main/Untitled7.ipynb\" target=\"_parent\"><img src=\"https://colab.research.google.com/assets/colab-badge.svg\" alt=\"Open In Colab\"/></a>"
      ]
    },
    {
      "cell_type": "code",
      "execution_count": null,
      "metadata": {
        "colab": {
          "base_uri": "https://localhost:8080/"
        },
        "id": "8kBl4pJF960k",
        "outputId": "2cff6f68-636a-4da8-de0d-3d42cca208b5"
      },
      "outputs": [
        {
          "metadata": {
            "tags": null
          },
          "name": "stdout",
          "output_type": "stream",
          "text": [
            "Escreva um número menor ou igual a 100\n",
            "O Número precisa ser menor ou igual a 100!\n",
            "O valor inserido deve ser um número inteiro!\n"
          ]
        }
      ],
      "source": [
        "def mostrar_numero(numero):\n",
        "  numero_valido = False\n",
        "\n",
        "  print(\"Escreva um número menor ou igual a 100\")\n",
        "\n",
        "  while (numero_valido == False):\n",
        "    try:\n",
        "        num = int (input())\n",
        "        if (num > 100):\n",
        "          print(\"O Número precisa ser menor ou igual a 100!\")\n",
        "        else:\n",
        "          print(\"Boa! Você escolheu o número:\" + str (num))\n",
        "          numero_valido = True\n",
        "    except:\n",
        "      print(\"O valor inserido deve ser um número inteiro!\")\n",
        "\n",
        "\n",
        "mostrar_numero(\"num\")"
      ]
    },
    {
      "cell_type": "code",
      "source": [],
      "metadata": {
        "id": "E5rEwybO-FER"
      },
      "execution_count": null,
      "outputs": []
    }
  ]
}